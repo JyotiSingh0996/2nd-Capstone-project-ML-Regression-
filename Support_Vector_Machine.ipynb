{
  "cells": [
    {
      "cell_type": "markdown",
      "metadata": {
        "id": "view-in-github",
        "colab_type": "text"
      },
      "source": [
        "<a href=\"https://colab.research.google.com/github/JyotiSingh0996/2nd-Capstone-project-ML-Regression-/blob/main/Support_Vector_Machine.ipynb\" target=\"_parent\"><img src=\"https://colab.research.google.com/assets/colab-badge.svg\" alt=\"Open In Colab\"/></a>"
      ]
    },
    {
      "cell_type": "code",
      "execution_count": 1,
      "metadata": {
        "id": "g-vdlbV1VJx5"
      },
      "outputs": [],
      "source": [
        "import numpy as np\n",
        "import pandas as pd\n",
        "from numpy import math\n",
        "import matplotlib.pyplot as plt\n",
        "import seaborn as sns\n"
      ]
    },
    {
      "cell_type": "code",
      "execution_count": null,
      "metadata": {
        "id": "MOXfXn5-hboZ"
      },
      "outputs": [],
      "source": [
        "from google.colab import drive\n",
        "drive.mount('/content/drive')"
      ]
    },
    {
      "cell_type": "code",
      "execution_count": null,
      "metadata": {
        "id": "Rdfkz3HJq-1M"
      },
      "outputs": [],
      "source": [
        "df = pd.read_csv('/content/drive/MyDrive/creditcard (1).csv')"
      ]
    },
    {
      "cell_type": "code",
      "execution_count": null,
      "metadata": {
        "id": "GQ_pQ7b_rNGK"
      },
      "outputs": [],
      "source": [
        "df.head()"
      ]
    },
    {
      "cell_type": "code",
      "execution_count": null,
      "metadata": {
        "colab": {
          "base_uri": "https://localhost:8080/"
        },
        "id": "dgda-Hv6rQx4",
        "outputId": "dec4a36a-b4c8-4dbd-887e-ddc0ecef2f07"
      },
      "outputs": [
        {
          "data": {
            "text/plain": [
              "(56962, 30)"
            ]
          },
          "execution_count": 32,
          "metadata": {},
          "output_type": "execute_result"
        }
      ],
      "source": [
        "df.shape"
      ]
    },
    {
      "cell_type": "code",
      "execution_count": null,
      "metadata": {
        "colab": {
          "base_uri": "https://localhost:8080/"
        },
        "id": "w0j9JrZpu4rw",
        "outputId": "d529ba8d-b860-485b-faba-c675480f14c9"
      },
      "outputs": [
        {
          "data": {
            "text/plain": [
              "V1        0\n",
              "V2        0\n",
              "V3        0\n",
              "V4        0\n",
              "V5        0\n",
              "V6        0\n",
              "V7        0\n",
              "V8        0\n",
              "V9        0\n",
              "V10       0\n",
              "V11       0\n",
              "V12       0\n",
              "V13       0\n",
              "V14       0\n",
              "V15       0\n",
              "V16       0\n",
              "V17       0\n",
              "V18       0\n",
              "V19       0\n",
              "V20       0\n",
              "V21       0\n",
              "V22       0\n",
              "V23       0\n",
              "V24       0\n",
              "V25       0\n",
              "V26       0\n",
              "V27       0\n",
              "V28       0\n",
              "V29       0\n",
              "Target    0\n",
              "dtype: int64"
            ]
          },
          "execution_count": 33,
          "metadata": {},
          "output_type": "execute_result"
        }
      ],
      "source": [
        "df.isnull().sum()"
      ]
    },
    {
      "cell_type": "code",
      "execution_count": null,
      "metadata": {
        "colab": {
          "base_uri": "https://localhost:8080/"
        },
        "id": "88_COnPYu9aH",
        "outputId": "6747e5b4-2401-46a4-f489-bf495365ecc5"
      },
      "outputs": [
        {
          "data": {
            "text/plain": [
              "675"
            ]
          },
          "execution_count": 34,
          "metadata": {},
          "output_type": "execute_result"
        }
      ],
      "source": [
        "df.duplicated().sum()"
      ]
    },
    {
      "cell_type": "code",
      "execution_count": null,
      "metadata": {
        "id": "rVN4yUBjvTFH"
      },
      "outputs": [],
      "source": [
        "df.drop_duplicates(inplace=True)"
      ]
    },
    {
      "cell_type": "code",
      "execution_count": null,
      "metadata": {
        "colab": {
          "base_uri": "https://localhost:8080/"
        },
        "id": "ShI9Fw0XvpYG",
        "outputId": "2434491f-6300-4d10-d19c-4b4583ff4eb5"
      },
      "outputs": [
        {
          "data": {
            "text/plain": [
              "0    56189\n",
              "1       98\n",
              "Name: Target, dtype: int64"
            ]
          },
          "execution_count": 36,
          "metadata": {},
          "output_type": "execute_result"
        }
      ],
      "source": [
        "df['Target'].value_counts()"
      ]
    },
    {
      "cell_type": "code",
      "execution_count": null,
      "metadata": {
        "id": "QHgMN6dKwIPl"
      },
      "outputs": [],
      "source": [
        "X = df.drop(['Target'],axis=1)\n",
        "y = df['Target']"
      ]
    },
    {
      "cell_type": "code",
      "execution_count": null,
      "metadata": {
        "id": "BhsWHH_gwfnh"
      },
      "outputs": [],
      "source": [
        "from sklearn.model_selection import train_test_split"
      ]
    },
    {
      "cell_type": "code",
      "execution_count": null,
      "metadata": {
        "id": "V27Eo0ldwfsg"
      },
      "outputs": [],
      "source": [
        "X_train,X_test,y_train,y_test = train_test_split(X,y ,test_size=0.25, random_state=41)"
      ]
    },
    {
      "cell_type": "code",
      "execution_count": null,
      "metadata": {
        "colab": {
          "base_uri": "https://localhost:8080/"
        },
        "id": "Im5nQJqAxDJ2",
        "outputId": "1712fc10-4dab-41f4-c2d9-a88792013f83"
      },
      "outputs": [
        {
          "data": {
            "text/plain": [
              "((42215, 29), (14072, 29), (42215,), (14072,))"
            ]
          },
          "execution_count": 40,
          "metadata": {},
          "output_type": "execute_result"
        }
      ],
      "source": [
        "X_train.shape , X_test.shape , y_train.shape , y_test.shape"
      ]
    },
    {
      "cell_type": "code",
      "execution_count": null,
      "metadata": {
        "id": "rGi-yCICyXYJ"
      },
      "outputs": [],
      "source": [
        "cols = X_train.columns"
      ]
    },
    {
      "cell_type": "code",
      "execution_count": null,
      "metadata": {
        "id": "lvn6o32XxRCE"
      },
      "outputs": [],
      "source": [
        "from sklearn.preprocessing import StandardScaler\n",
        "Scaler = StandardScaler()\n",
        "X_train = Scaler.fit_transform(X_train)\n",
        "X_test = Scaler.fit_transform(X_test)"
      ]
    },
    {
      "cell_type": "code",
      "execution_count": null,
      "metadata": {
        "id": "f97BF8VNy9M8"
      },
      "outputs": [],
      "source": [
        "from sklearn.svm import SVC"
      ]
    },
    {
      "cell_type": "code",
      "execution_count": null,
      "metadata": {
        "id": "kNOBzvIxyGsI"
      },
      "outputs": [],
      "source": [
        "from sklearn.metrics import accuracy_score\n"
      ]
    },
    {
      "cell_type": "code",
      "execution_count": null,
      "metadata": {
        "id": "NBf0mhvBzLp6"
      },
      "outputs": [],
      "source": [
        "svc = SVC()"
      ]
    },
    {
      "cell_type": "code",
      "execution_count": null,
      "metadata": {
        "colab": {
          "base_uri": "https://localhost:8080/"
        },
        "id": "BUSgR5HczS4z",
        "outputId": "07de7760-73c0-466e-c64f-904b7942e893"
      },
      "outputs": [
        {
          "data": {
            "text/plain": [
              "SVC()"
            ]
          },
          "execution_count": 47,
          "metadata": {},
          "output_type": "execute_result"
        }
      ],
      "source": [
        "svc.fit(X_train,y_train)"
      ]
    },
    {
      "cell_type": "code",
      "execution_count": null,
      "metadata": {
        "id": "LdJYbqomzY2y"
      },
      "outputs": [],
      "source": [
        "y_pred = svc.predict(X_test)"
      ]
    },
    {
      "cell_type": "code",
      "execution_count": null,
      "metadata": {
        "colab": {
          "base_uri": "https://localhost:8080/"
        },
        "id": "yxLxyuj0zirC",
        "outputId": "bae0a193-88ae-428c-9216-0f50bdd657c2"
      },
      "outputs": [
        {
          "name": "stdout",
          "output_type": "stream",
          "text": [
            "Model accuracy score with default hyperparameters: 0.9986\n"
          ]
        }
      ],
      "source": [
        "print('Model accuracy score with default hyperparameters: {0:0.4f}'. format(accuracy_score(y_test, y_pred)))"
      ]
    },
    {
      "cell_type": "code",
      "execution_count": null,
      "metadata": {
        "id": "hhdeHx4lzpE4"
      },
      "outputs": [],
      "source": [
        "# c = 100"
      ]
    },
    {
      "cell_type": "code",
      "execution_count": null,
      "metadata": {
        "id": "daTirvQ9zvv9"
      },
      "outputs": [],
      "source": [
        "svc = SVC(C=100).fit(X_train,y_train)"
      ]
    },
    {
      "cell_type": "code",
      "execution_count": null,
      "metadata": {
        "id": "ufEOYKoQ0nCk"
      },
      "outputs": [],
      "source": [
        "y_pred = svc.predict(X_test)"
      ]
    },
    {
      "cell_type": "code",
      "execution_count": null,
      "metadata": {
        "colab": {
          "base_uri": "https://localhost:8080/"
        },
        "id": "-O6Mk5J40NYD",
        "outputId": "8cacb667-d83d-48db-dc23-96541284e0a9"
      },
      "outputs": [
        {
          "name": "stdout",
          "output_type": "stream",
          "text": [
            "Model accuracy score with default hyperparameters: 0.9984\n"
          ]
        }
      ],
      "source": [
        "print('Model accuracy score with default hyperparameters: {0:0.4f}'. format(accuracy_score(y_test, y_pred)))"
      ]
    },
    {
      "cell_type": "code",
      "execution_count": null,
      "metadata": {
        "colab": {
          "base_uri": "https://localhost:8080/"
        },
        "id": "lB7uwTxh0vBR",
        "outputId": "b6abc493-dd98-42de-9272-4082a6beea5d"
      },
      "outputs": [
        {
          "name": "stdout",
          "output_type": "stream",
          "text": [
            "Model accuracy score with default hyperparameters: 0.9982\n"
          ]
        }
      ],
      "source": [
        "svc = SVC(C=1000).fit(X_train,y_train)\n",
        "y_pred = svc.predict(X_test)\n",
        "print('Model accuracy score with default hyperparameters: {0:0.4f}'. format(accuracy_score(y_test, y_pred)))\n"
      ]
    },
    {
      "cell_type": "code",
      "execution_count": null,
      "metadata": {
        "colab": {
          "base_uri": "https://localhost:8080/"
        },
        "id": "YX8p0tdm08jx",
        "outputId": "971f9868-684f-4793-87e5-675f561549dd"
      },
      "outputs": [
        {
          "name": "stdout",
          "output_type": "stream",
          "text": [
            "Model accuracy score with default hyperparameters: 0.9994\n"
          ]
        }
      ],
      "source": [
        "l_svc = SVC(kernel = 'linear',C=1.0).fit(X_train,y_train)\n",
        "y_pred = l_svc.predict(X_test)\n",
        "print('Model accuracy score with default hyperparameters: {0:0.4f}'. format(accuracy_score(y_test, y_pred)))"
      ]
    },
    {
      "cell_type": "code",
      "execution_count": null,
      "metadata": {
        "id": "kVe26OsU2fEw"
      },
      "outputs": [],
      "source": [
        "l_svc = SVC(kernel = 'linear',C=1000).fit(X_train,y_train)\n",
        "y_pred = l_svc.predict(X_test)\n",
        "print('Model accuracy score with default hyperparameters: {0:0.4f}'. format(accuracy_score(y_test, y_pred)))"
      ]
    },
    {
      "cell_type": "code",
      "execution_count": null,
      "metadata": {
        "id": "UWgWNsXP2IL4"
      },
      "outputs": [],
      "source": [
        "ls_svc = SVC(kernel = 'sigmoid',C=1.0).fit(X_train,y_train)\n",
        "y_pred = ls_svc.predict(X_test)\n",
        "print('Model accuracy score with default hyperparameters: {0:0.4f}'. format(accuracy_score(y_test, y_pred)))"
      ]
    },
    {
      "cell_type": "code",
      "execution_count": null,
      "metadata": {
        "id": "l6cnsaoP3T_g"
      },
      "outputs": [],
      "source": [
        "poly_svc = SVC(kernel = 'poly',C=1.0).fit(X_train,y_train)\n",
        "y_pred = poly_svc.predict(X_test)\n",
        "print('Model accuracy score with default hyperparameters: {0:0.4f}'. format(accuracy_score(y_test, y_pred)))"
      ]
    }
  ],
  "metadata": {
    "colab": {
      "provenance": [],
      "authorship_tag": "ABX9TyPum9YnlBA4aWIr+V1tysV5",
      "include_colab_link": true
    },
    "kernelspec": {
      "display_name": "Python 3",
      "name": "python3"
    },
    "language_info": {
      "name": "python"
    }
  },
  "nbformat": 4,
  "nbformat_minor": 0
}